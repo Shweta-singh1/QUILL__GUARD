{
  "cells": [
    {
      "cell_type": "markdown",
      "metadata": {
        "id": "view-in-github",
        "colab_type": "text"
      },
      "source": [
        "<a href=\"https://colab.research.google.com/github/Shweta-singh1/QUILL__GUARD/blob/main/QUILL__GUARD_.ipynb\" target=\"_parent\"><img src=\"https://colab.research.google.com/assets/colab-badge.svg\" alt=\"Open In Colab\"/></a>"
      ]
    },
    {
      "cell_type": "code",
      "execution_count": null,
      "metadata": {
        "id": "ZBS8oY6V_snw"
      },
      "outputs": [],
      "source": [
        "from google.colab import drive"
      ]
    },
    {
      "cell_type": "code",
      "source": [
        "drive.mount('/content/drive')"
      ],
      "metadata": {
        "colab": {
          "base_uri": "https://localhost:8080/"
        },
        "id": "FcY0h-Ok280n",
        "outputId": "96627a42-4b26-4b42-9d2d-06f3016d5ccd"
      },
      "execution_count": null,
      "outputs": [
        {
          "output_type": "stream",
          "name": "stdout",
          "text": [
            "Mounted at /content/drive\n"
          ]
        }
      ]
    },
    {
      "cell_type": "code",
      "execution_count": null,
      "metadata": {
        "id": "Gm6yZ9TUAHB8"
      },
      "outputs": [],
      "source": [
        "#libraries for data visualisation\n",
        "import pandas as pd\n",
        "import numpy as np\n",
        "import matplotlib.pyplot as plt\n",
        "import seaborn as sns\n",
        "%matplotlib inline"
      ]
    },
    {
      "cell_type": "code",
      "execution_count": null,
      "metadata": {
        "id": "yuGEM_ngAYTj"
      },
      "outputs": [],
      "source": [
        "#reading the dataset\n",
        "colnames=['file_1', 'file_2', 'label']\n",
        "df=pd.read_csv(r\"/content/drive/MyDrive/train_snli.txt\",sep='\\t',on_bad_lines='skip',names=colnames)"
      ]
    },
    {
      "cell_type": "code",
      "execution_count": null,
      "metadata": {
        "id": "WgViYqFhAR_o"
      },
      "outputs": [],
      "source": [
        "# Convert the label column to integers\n",
        "df['label'] = df['label'].astype(int)"
      ]
    },
    {
      "cell_type": "code",
      "execution_count": null,
      "metadata": {
        "id": "d8Y9nImuAUXK"
      },
      "outputs": [],
      "source": [
        "df.dropna(inplace=True)"
      ]
    },
    {
      "cell_type": "code",
      "execution_count": null,
      "metadata": {
        "colab": {
          "base_uri": "https://localhost:8080/"
        },
        "id": "Mj6vDv-0AdUq",
        "outputId": "1308def4-1022-44b9-dd1d-32ed670bd9b4"
      },
      "outputs": [
        {
          "output_type": "stream",
          "name": "stderr",
          "text": [
            "[nltk_data] Downloading package stopwords to /root/nltk_data...\n",
            "[nltk_data]   Unzipping corpora/stopwords.zip.\n",
            "[nltk_data] Downloading package punkt to /root/nltk_data...\n",
            "[nltk_data]   Unzipping tokenizers/punkt.zip.\n"
          ]
        },
        {
          "output_type": "execute_result",
          "data": {
            "text/plain": [
              "True"
            ]
          },
          "metadata": {},
          "execution_count": 7
        }
      ],
      "source": [
        "import nltk\n",
        "import re\n",
        "from nltk.tokenize import word_tokenize\n",
        "from nltk.corpus import stopwords\n",
        "nltk.download('stopwords')\n",
        "nltk.download('punkt')"
      ]
    },
    {
      "cell_type": "code",
      "execution_count": null,
      "metadata": {
        "id": "je1G42uFAeWe"
      },
      "outputs": [],
      "source": [
        "# Preprocess the text data\n",
        "stop_words = set(stopwords.words('english'))"
      ]
    },
    {
      "cell_type": "code",
      "execution_count": null,
      "metadata": {
        "id": "Jxjc5WaQAgyG"
      },
      "outputs": [],
      "source": [
        "def preprocess_text(text):\n",
        "    # Remove non-alphanumeric characters\n",
        "    text = re.sub('[^a-zA-Z0-9]', ' ', text)\n",
        "    # Tokenize the text\n",
        "    tokens = word_tokenize(text.lower())\n",
        "    # Remove stop words\n",
        "    tokens = [token for token in tokens if token not in stop_words]\n",
        "    # Join the tokens back into a string\n",
        "    return ' '.join(tokens)"
      ]
    },
    {
      "cell_type": "code",
      "execution_count": null,
      "metadata": {
        "id": "xJVcfRRwAiyV"
      },
      "outputs": [],
      "source": [
        "df['file_1'] = df['file_1'].apply(preprocess_text)\n",
        "df['file_2'] = df['file_2'].apply(preprocess_text)"
      ]
    },
    {
      "cell_type": "code",
      "execution_count": null,
      "metadata": {
        "id": "9WNkV38MAks1"
      },
      "outputs": [],
      "source": [
        "from gensim.models import Word2Vec\n",
        "from sklearn.model_selection import train_test_split"
      ]
    },
    {
      "cell_type": "code",
      "execution_count": null,
      "metadata": {
        "id": "QQUpmGpsApQH"
      },
      "outputs": [],
      "source": [
        "from sklearn.metrics import precision_score, recall_score, f1_score"
      ]
    },
    {
      "cell_type": "code",
      "execution_count": null,
      "metadata": {
        "id": "8oIMUInmKIOk"
      },
      "outputs": [],
      "source": [
        "# Create Word2Vec embeddings\n",
        "corpus = df['file_1'].tolist() + df['file_2'].tolist()\n",
        "corpus = [sentence.split() for sentence in corpus]\n",
        "model = Word2Vec(corpus, size=100, window=5, min_count=1, workers=4)"
      ]
    },
    {
      "cell_type": "code",
      "execution_count": null,
      "metadata": {
        "id": "BMeQ0qp1KTmB"
      },
      "outputs": [],
      "source": [
        "# Compute similarity scores\n",
        "def compute_similarity(doc1, doc2):\n",
        "    doc1_vec = np.mean([model[word] for word in doc1.split() if word in model], axis=0)\n",
        "    doc2_vec = np.mean([model[word] for word in doc2.split() if word in model], axis=0)\n",
        "    return np.dot(doc1_vec, doc2_vec) / (np.linalg.norm(doc1_vec) * np.linalg.norm(doc2_vec))"
      ]
    },
    {
      "cell_type": "code",
      "execution_count": null,
      "metadata": {
        "colab": {
          "base_uri": "https://localhost:8080/"
        },
        "id": "fzSMukgBKVec",
        "outputId": "cb1219be-b63d-4c44-ac7a-b5eb7d84e8df"
      },
      "outputs": [
        {
          "output_type": "stream",
          "name": "stderr",
          "text": [
            "<ipython-input-14-cc50ab53296f>:3: DeprecationWarning: Call to deprecated `__contains__` (Method will be removed in 4.0.0, use self.wv.__contains__() instead).\n",
            "  doc1_vec = np.mean([model[word] for word in doc1.split() if word in model], axis=0)\n",
            "<ipython-input-14-cc50ab53296f>:3: DeprecationWarning: Call to deprecated `__getitem__` (Method will be removed in 4.0.0, use self.wv.__getitem__() instead).\n",
            "  doc1_vec = np.mean([model[word] for word in doc1.split() if word in model], axis=0)\n",
            "<ipython-input-14-cc50ab53296f>:4: DeprecationWarning: Call to deprecated `__contains__` (Method will be removed in 4.0.0, use self.wv.__contains__() instead).\n",
            "  doc2_vec = np.mean([model[word] for word in doc2.split() if word in model], axis=0)\n",
            "<ipython-input-14-cc50ab53296f>:4: DeprecationWarning: Call to deprecated `__getitem__` (Method will be removed in 4.0.0, use self.wv.__getitem__() instead).\n",
            "  doc2_vec = np.mean([model[word] for word in doc2.split() if word in model], axis=0)\n",
            "/usr/local/lib/python3.9/dist-packages/numpy/core/fromnumeric.py:3474: RuntimeWarning: Mean of empty slice.\n",
            "  return _methods._mean(a, axis=axis, dtype=dtype,\n",
            "/usr/local/lib/python3.9/dist-packages/numpy/core/_methods.py:189: RuntimeWarning: invalid value encountered in double_scalars\n",
            "  ret = ret.dtype.type(ret / rcount)\n"
          ]
        }
      ],
      "source": [
        "df['similarity'] = df.apply(lambda x: compute_similarity(x['file_1'], x['file_2']), axis=1)"
      ]
    },
    {
      "cell_type": "code",
      "execution_count": null,
      "metadata": {
        "colab": {
          "base_uri": "https://localhost:8080/",
          "height": 424
        },
        "id": "R09wKb4mKXdV",
        "outputId": "d4ba7423-9144-4061-f644-1860e153ef74"
      },
      "outputs": [
        {
          "output_type": "execute_result",
          "data": {
            "text/plain": [
              "                                           file_1  \\\n",
              "0              person horse jumps broken airplane   \n",
              "1              person horse jumps broken airplane   \n",
              "2                  children smiling waving camera   \n",
              "3                  children smiling waving camera   \n",
              "4        boy jumping skateboard middle red bridge   \n",
              "...                                           ...   \n",
              "367368         dog blue collar plays ball outside   \n",
              "367369             four dirty barefooted children   \n",
              "367370             four dirty barefooted children   \n",
              "367371  man surfing bodysuit beautiful blue water   \n",
              "367372  man surfing bodysuit beautiful blue water   \n",
              "\n",
              "                                           file_2  label similarity  \n",
              "0                  person diner ordering omelette      0   0.196021  \n",
              "1                           person outdoors horse      1   0.716476  \n",
              "2                                children present      1   0.428938  \n",
              "3                                   kids frowning      0    0.38952  \n",
              "4                             boy skates sidewalk      0   0.599319  \n",
              "...                                           ...    ...        ...  \n",
              "367368                                dog outside      1   0.633093  \n",
              "367369                   four children dirty feet      1    0.91788  \n",
              "367370             four kids awards cleanest feet      0   0.838551  \n",
              "367371    man business suit heading board meeting      0   0.406594  \n",
              "367372  beautiful blue water man bodysuit surfing      1        1.0  \n",
              "\n",
              "[367369 rows x 4 columns]"
            ],
            "text/html": [
              "\n",
              "  <div id=\"df-5d98b89d-e06c-403a-9e1f-2b1485baa80c\">\n",
              "    <div class=\"colab-df-container\">\n",
              "      <div>\n",
              "<style scoped>\n",
              "    .dataframe tbody tr th:only-of-type {\n",
              "        vertical-align: middle;\n",
              "    }\n",
              "\n",
              "    .dataframe tbody tr th {\n",
              "        vertical-align: top;\n",
              "    }\n",
              "\n",
              "    .dataframe thead th {\n",
              "        text-align: right;\n",
              "    }\n",
              "</style>\n",
              "<table border=\"1\" class=\"dataframe\">\n",
              "  <thead>\n",
              "    <tr style=\"text-align: right;\">\n",
              "      <th></th>\n",
              "      <th>file_1</th>\n",
              "      <th>file_2</th>\n",
              "      <th>label</th>\n",
              "      <th>similarity</th>\n",
              "    </tr>\n",
              "  </thead>\n",
              "  <tbody>\n",
              "    <tr>\n",
              "      <th>0</th>\n",
              "      <td>person horse jumps broken airplane</td>\n",
              "      <td>person diner ordering omelette</td>\n",
              "      <td>0</td>\n",
              "      <td>0.196021</td>\n",
              "    </tr>\n",
              "    <tr>\n",
              "      <th>1</th>\n",
              "      <td>person horse jumps broken airplane</td>\n",
              "      <td>person outdoors horse</td>\n",
              "      <td>1</td>\n",
              "      <td>0.716476</td>\n",
              "    </tr>\n",
              "    <tr>\n",
              "      <th>2</th>\n",
              "      <td>children smiling waving camera</td>\n",
              "      <td>children present</td>\n",
              "      <td>1</td>\n",
              "      <td>0.428938</td>\n",
              "    </tr>\n",
              "    <tr>\n",
              "      <th>3</th>\n",
              "      <td>children smiling waving camera</td>\n",
              "      <td>kids frowning</td>\n",
              "      <td>0</td>\n",
              "      <td>0.38952</td>\n",
              "    </tr>\n",
              "    <tr>\n",
              "      <th>4</th>\n",
              "      <td>boy jumping skateboard middle red bridge</td>\n",
              "      <td>boy skates sidewalk</td>\n",
              "      <td>0</td>\n",
              "      <td>0.599319</td>\n",
              "    </tr>\n",
              "    <tr>\n",
              "      <th>...</th>\n",
              "      <td>...</td>\n",
              "      <td>...</td>\n",
              "      <td>...</td>\n",
              "      <td>...</td>\n",
              "    </tr>\n",
              "    <tr>\n",
              "      <th>367368</th>\n",
              "      <td>dog blue collar plays ball outside</td>\n",
              "      <td>dog outside</td>\n",
              "      <td>1</td>\n",
              "      <td>0.633093</td>\n",
              "    </tr>\n",
              "    <tr>\n",
              "      <th>367369</th>\n",
              "      <td>four dirty barefooted children</td>\n",
              "      <td>four children dirty feet</td>\n",
              "      <td>1</td>\n",
              "      <td>0.91788</td>\n",
              "    </tr>\n",
              "    <tr>\n",
              "      <th>367370</th>\n",
              "      <td>four dirty barefooted children</td>\n",
              "      <td>four kids awards cleanest feet</td>\n",
              "      <td>0</td>\n",
              "      <td>0.838551</td>\n",
              "    </tr>\n",
              "    <tr>\n",
              "      <th>367371</th>\n",
              "      <td>man surfing bodysuit beautiful blue water</td>\n",
              "      <td>man business suit heading board meeting</td>\n",
              "      <td>0</td>\n",
              "      <td>0.406594</td>\n",
              "    </tr>\n",
              "    <tr>\n",
              "      <th>367372</th>\n",
              "      <td>man surfing bodysuit beautiful blue water</td>\n",
              "      <td>beautiful blue water man bodysuit surfing</td>\n",
              "      <td>1</td>\n",
              "      <td>1.0</td>\n",
              "    </tr>\n",
              "  </tbody>\n",
              "</table>\n",
              "<p>367369 rows × 4 columns</p>\n",
              "</div>\n",
              "      <button class=\"colab-df-convert\" onclick=\"convertToInteractive('df-5d98b89d-e06c-403a-9e1f-2b1485baa80c')\"\n",
              "              title=\"Convert this dataframe to an interactive table.\"\n",
              "              style=\"display:none;\">\n",
              "        \n",
              "  <svg xmlns=\"http://www.w3.org/2000/svg\" height=\"24px\"viewBox=\"0 0 24 24\"\n",
              "       width=\"24px\">\n",
              "    <path d=\"M0 0h24v24H0V0z\" fill=\"none\"/>\n",
              "    <path d=\"M18.56 5.44l.94 2.06.94-2.06 2.06-.94-2.06-.94-.94-2.06-.94 2.06-2.06.94zm-11 1L8.5 8.5l.94-2.06 2.06-.94-2.06-.94L8.5 2.5l-.94 2.06-2.06.94zm10 10l.94 2.06.94-2.06 2.06-.94-2.06-.94-.94-2.06-.94 2.06-2.06.94z\"/><path d=\"M17.41 7.96l-1.37-1.37c-.4-.4-.92-.59-1.43-.59-.52 0-1.04.2-1.43.59L10.3 9.45l-7.72 7.72c-.78.78-.78 2.05 0 2.83L4 21.41c.39.39.9.59 1.41.59.51 0 1.02-.2 1.41-.59l7.78-7.78 2.81-2.81c.8-.78.8-2.07 0-2.86zM5.41 20L4 18.59l7.72-7.72 1.47 1.35L5.41 20z\"/>\n",
              "  </svg>\n",
              "      </button>\n",
              "      \n",
              "  <style>\n",
              "    .colab-df-container {\n",
              "      display:flex;\n",
              "      flex-wrap:wrap;\n",
              "      gap: 12px;\n",
              "    }\n",
              "\n",
              "    .colab-df-convert {\n",
              "      background-color: #E8F0FE;\n",
              "      border: none;\n",
              "      border-radius: 50%;\n",
              "      cursor: pointer;\n",
              "      display: none;\n",
              "      fill: #1967D2;\n",
              "      height: 32px;\n",
              "      padding: 0 0 0 0;\n",
              "      width: 32px;\n",
              "    }\n",
              "\n",
              "    .colab-df-convert:hover {\n",
              "      background-color: #E2EBFA;\n",
              "      box-shadow: 0px 1px 2px rgba(60, 64, 67, 0.3), 0px 1px 3px 1px rgba(60, 64, 67, 0.15);\n",
              "      fill: #174EA6;\n",
              "    }\n",
              "\n",
              "    [theme=dark] .colab-df-convert {\n",
              "      background-color: #3B4455;\n",
              "      fill: #D2E3FC;\n",
              "    }\n",
              "\n",
              "    [theme=dark] .colab-df-convert:hover {\n",
              "      background-color: #434B5C;\n",
              "      box-shadow: 0px 1px 3px 1px rgba(0, 0, 0, 0.15);\n",
              "      filter: drop-shadow(0px 1px 2px rgba(0, 0, 0, 0.3));\n",
              "      fill: #FFFFFF;\n",
              "    }\n",
              "  </style>\n",
              "\n",
              "      <script>\n",
              "        const buttonEl =\n",
              "          document.querySelector('#df-5d98b89d-e06c-403a-9e1f-2b1485baa80c button.colab-df-convert');\n",
              "        buttonEl.style.display =\n",
              "          google.colab.kernel.accessAllowed ? 'block' : 'none';\n",
              "\n",
              "        async function convertToInteractive(key) {\n",
              "          const element = document.querySelector('#df-5d98b89d-e06c-403a-9e1f-2b1485baa80c');\n",
              "          const dataTable =\n",
              "            await google.colab.kernel.invokeFunction('convertToInteractive',\n",
              "                                                     [key], {});\n",
              "          if (!dataTable) return;\n",
              "\n",
              "          const docLinkHtml = 'Like what you see? Visit the ' +\n",
              "            '<a target=\"_blank\" href=https://colab.research.google.com/notebooks/data_table.ipynb>data table notebook</a>'\n",
              "            + ' to learn more about interactive tables.';\n",
              "          element.innerHTML = '';\n",
              "          dataTable['output_type'] = 'display_data';\n",
              "          await google.colab.output.renderOutput(dataTable, element);\n",
              "          const docLink = document.createElement('div');\n",
              "          docLink.innerHTML = docLinkHtml;\n",
              "          element.appendChild(docLink);\n",
              "        }\n",
              "      </script>\n",
              "    </div>\n",
              "  </div>\n",
              "  "
            ]
          },
          "metadata": {},
          "execution_count": 16
        }
      ],
      "source": [
        "pd.DataFrame(df)"
      ]
    },
    {
      "cell_type": "code",
      "source": [
        "df.head(35)"
      ],
      "metadata": {
        "colab": {
          "base_uri": "https://localhost:8080/",
          "height": 1000
        },
        "id": "-nnKXFM3x7Oa",
        "outputId": "7425a09e-9226-41a3-de8e-8e85055b35e5"
      },
      "execution_count": null,
      "outputs": [
        {
          "output_type": "execute_result",
          "data": {
            "text/plain": [
              "                                               file_1  \\\n",
              "0                  person horse jumps broken airplane   \n",
              "1                  person horse jumps broken airplane   \n",
              "2                      children smiling waving camera   \n",
              "3                      children smiling waving camera   \n",
              "4            boy jumping skateboard middle red bridge   \n",
              "5            boy jumping skateboard middle red bridge   \n",
              "6   older man sits orange juice small table coffee...   \n",
              "7                 two blond women hugging one another   \n",
              "8                 two blond women hugging one another   \n",
              "9   people restaurant setting one drinking orange ...   \n",
              "10  people restaurant setting one drinking orange ...   \n",
              "11         older man drinking orange juice restaurant   \n",
              "12         older man drinking orange juice restaurant   \n",
              "13  man blond hair brown shirt drinking public wat...   \n",
              "14  man blond hair brown shirt drinking public wat...   \n",
              "15             two women lunch hugging saying goodbye   \n",
              "16             two women lunch hugging saying goodbye   \n",
              "17     two women holding food carryout containers hug   \n",
              "18     two women holding food carryout containers hug   \n",
              "19  little league team tries catch runner sliding ...   \n",
              "20  little league team tries catch runner sliding ...   \n",
              "21  school special event order show american cultu...   \n",
              "22  school special event order show american cultu...   \n",
              "23  high fashion ladies wait outside tram beside c...   \n",
              "24  high fashion ladies wait outside tram beside c...   \n",
              "25                     man woman child enjoying beach   \n",
              "26                     man woman child enjoying beach   \n",
              "27                   people waiting get train getting   \n",
              "28                   people waiting get train getting   \n",
              "29                    couple playing little boy beach   \n",
              "30                    couple playing little boy beach   \n",
              "31                         couple play tide young son   \n",
              "32                         couple play tide young son   \n",
              "33  man woman cross street front pizza gyro restau...   \n",
              "34  man woman cross street front pizza gyro restau...   \n",
              "\n",
              "                                               file_2  label similarity  \n",
              "0                      person diner ordering omelette      0   0.196021  \n",
              "1                               person outdoors horse      1   0.716476  \n",
              "2                                    children present      1   0.428938  \n",
              "3                                       kids frowning      0    0.38952  \n",
              "4                                 boy skates sidewalk      0   0.599319  \n",
              "5                             boy skateboarding trick      1   0.656179  \n",
              "6                                    boy flips burger      0    0.22328  \n",
              "7                                      women sleeping      0   0.403194  \n",
              "8                             women showing affection      1   0.328699  \n",
              "9                         people sitting desks school      0   0.432167  \n",
              "10                                  diners restaurant      1   0.501122  \n",
              "11                                 man drinking juice      1   0.798878  \n",
              "12                 two women restaurant drinking wine      0   0.655069  \n",
              "13  blond man wearing brown shirt reading book ben...      0   0.769714  \n",
              "14                  blond man drinking water fountain      1   0.885046  \n",
              "15                    friends scowl full dinner table      0   0.304203  \n",
              "16                                  two woman picture      1   0.550292  \n",
              "17              two groups rival gang members flipped      0   0.322211  \n",
              "18                                      two women hug      1   0.724855  \n",
              "19                             team trying tag runner      1   0.823604  \n",
              "20                       team playing baseball saturn      0   0.670692  \n",
              "21                       school hosts basketball game      0   0.497397  \n",
              "22                               school hosting event      1   0.824628  \n",
              "23                            women care clothes wear      0   0.238023  \n",
              "24                                 women waiting tram      1   0.526826  \n",
              "25                                 family three beach      1   0.588048  \n",
              "26                         family three mall shopping      0   0.286008  \n",
              "27                               people getting train      1   0.848716  \n",
              "28                               people waiting train      1   0.765289  \n",
              "29                 couple playing young child outside      1   0.793968  \n",
              "30                couple watch little girl play beach      0   0.902656  \n",
              "31                              family sitting dinner      0   0.327382  \n",
              "32                                     family outside      1   0.423117  \n",
              "33                         people standing still curb      0   0.377765  \n",
              "34  near couple restaurants two people walk across...      1   0.514297  "
            ],
            "text/html": [
              "\n",
              "  <div id=\"df-0468976d-c554-4591-994a-c07b1e8e0908\">\n",
              "    <div class=\"colab-df-container\">\n",
              "      <div>\n",
              "<style scoped>\n",
              "    .dataframe tbody tr th:only-of-type {\n",
              "        vertical-align: middle;\n",
              "    }\n",
              "\n",
              "    .dataframe tbody tr th {\n",
              "        vertical-align: top;\n",
              "    }\n",
              "\n",
              "    .dataframe thead th {\n",
              "        text-align: right;\n",
              "    }\n",
              "</style>\n",
              "<table border=\"1\" class=\"dataframe\">\n",
              "  <thead>\n",
              "    <tr style=\"text-align: right;\">\n",
              "      <th></th>\n",
              "      <th>file_1</th>\n",
              "      <th>file_2</th>\n",
              "      <th>label</th>\n",
              "      <th>similarity</th>\n",
              "    </tr>\n",
              "  </thead>\n",
              "  <tbody>\n",
              "    <tr>\n",
              "      <th>0</th>\n",
              "      <td>person horse jumps broken airplane</td>\n",
              "      <td>person diner ordering omelette</td>\n",
              "      <td>0</td>\n",
              "      <td>0.196021</td>\n",
              "    </tr>\n",
              "    <tr>\n",
              "      <th>1</th>\n",
              "      <td>person horse jumps broken airplane</td>\n",
              "      <td>person outdoors horse</td>\n",
              "      <td>1</td>\n",
              "      <td>0.716476</td>\n",
              "    </tr>\n",
              "    <tr>\n",
              "      <th>2</th>\n",
              "      <td>children smiling waving camera</td>\n",
              "      <td>children present</td>\n",
              "      <td>1</td>\n",
              "      <td>0.428938</td>\n",
              "    </tr>\n",
              "    <tr>\n",
              "      <th>3</th>\n",
              "      <td>children smiling waving camera</td>\n",
              "      <td>kids frowning</td>\n",
              "      <td>0</td>\n",
              "      <td>0.38952</td>\n",
              "    </tr>\n",
              "    <tr>\n",
              "      <th>4</th>\n",
              "      <td>boy jumping skateboard middle red bridge</td>\n",
              "      <td>boy skates sidewalk</td>\n",
              "      <td>0</td>\n",
              "      <td>0.599319</td>\n",
              "    </tr>\n",
              "    <tr>\n",
              "      <th>5</th>\n",
              "      <td>boy jumping skateboard middle red bridge</td>\n",
              "      <td>boy skateboarding trick</td>\n",
              "      <td>1</td>\n",
              "      <td>0.656179</td>\n",
              "    </tr>\n",
              "    <tr>\n",
              "      <th>6</th>\n",
              "      <td>older man sits orange juice small table coffee...</td>\n",
              "      <td>boy flips burger</td>\n",
              "      <td>0</td>\n",
              "      <td>0.22328</td>\n",
              "    </tr>\n",
              "    <tr>\n",
              "      <th>7</th>\n",
              "      <td>two blond women hugging one another</td>\n",
              "      <td>women sleeping</td>\n",
              "      <td>0</td>\n",
              "      <td>0.403194</td>\n",
              "    </tr>\n",
              "    <tr>\n",
              "      <th>8</th>\n",
              "      <td>two blond women hugging one another</td>\n",
              "      <td>women showing affection</td>\n",
              "      <td>1</td>\n",
              "      <td>0.328699</td>\n",
              "    </tr>\n",
              "    <tr>\n",
              "      <th>9</th>\n",
              "      <td>people restaurant setting one drinking orange ...</td>\n",
              "      <td>people sitting desks school</td>\n",
              "      <td>0</td>\n",
              "      <td>0.432167</td>\n",
              "    </tr>\n",
              "    <tr>\n",
              "      <th>10</th>\n",
              "      <td>people restaurant setting one drinking orange ...</td>\n",
              "      <td>diners restaurant</td>\n",
              "      <td>1</td>\n",
              "      <td>0.501122</td>\n",
              "    </tr>\n",
              "    <tr>\n",
              "      <th>11</th>\n",
              "      <td>older man drinking orange juice restaurant</td>\n",
              "      <td>man drinking juice</td>\n",
              "      <td>1</td>\n",
              "      <td>0.798878</td>\n",
              "    </tr>\n",
              "    <tr>\n",
              "      <th>12</th>\n",
              "      <td>older man drinking orange juice restaurant</td>\n",
              "      <td>two women restaurant drinking wine</td>\n",
              "      <td>0</td>\n",
              "      <td>0.655069</td>\n",
              "    </tr>\n",
              "    <tr>\n",
              "      <th>13</th>\n",
              "      <td>man blond hair brown shirt drinking public wat...</td>\n",
              "      <td>blond man wearing brown shirt reading book ben...</td>\n",
              "      <td>0</td>\n",
              "      <td>0.769714</td>\n",
              "    </tr>\n",
              "    <tr>\n",
              "      <th>14</th>\n",
              "      <td>man blond hair brown shirt drinking public wat...</td>\n",
              "      <td>blond man drinking water fountain</td>\n",
              "      <td>1</td>\n",
              "      <td>0.885046</td>\n",
              "    </tr>\n",
              "    <tr>\n",
              "      <th>15</th>\n",
              "      <td>two women lunch hugging saying goodbye</td>\n",
              "      <td>friends scowl full dinner table</td>\n",
              "      <td>0</td>\n",
              "      <td>0.304203</td>\n",
              "    </tr>\n",
              "    <tr>\n",
              "      <th>16</th>\n",
              "      <td>two women lunch hugging saying goodbye</td>\n",
              "      <td>two woman picture</td>\n",
              "      <td>1</td>\n",
              "      <td>0.550292</td>\n",
              "    </tr>\n",
              "    <tr>\n",
              "      <th>17</th>\n",
              "      <td>two women holding food carryout containers hug</td>\n",
              "      <td>two groups rival gang members flipped</td>\n",
              "      <td>0</td>\n",
              "      <td>0.322211</td>\n",
              "    </tr>\n",
              "    <tr>\n",
              "      <th>18</th>\n",
              "      <td>two women holding food carryout containers hug</td>\n",
              "      <td>two women hug</td>\n",
              "      <td>1</td>\n",
              "      <td>0.724855</td>\n",
              "    </tr>\n",
              "    <tr>\n",
              "      <th>19</th>\n",
              "      <td>little league team tries catch runner sliding ...</td>\n",
              "      <td>team trying tag runner</td>\n",
              "      <td>1</td>\n",
              "      <td>0.823604</td>\n",
              "    </tr>\n",
              "    <tr>\n",
              "      <th>20</th>\n",
              "      <td>little league team tries catch runner sliding ...</td>\n",
              "      <td>team playing baseball saturn</td>\n",
              "      <td>0</td>\n",
              "      <td>0.670692</td>\n",
              "    </tr>\n",
              "    <tr>\n",
              "      <th>21</th>\n",
              "      <td>school special event order show american cultu...</td>\n",
              "      <td>school hosts basketball game</td>\n",
              "      <td>0</td>\n",
              "      <td>0.497397</td>\n",
              "    </tr>\n",
              "    <tr>\n",
              "      <th>22</th>\n",
              "      <td>school special event order show american cultu...</td>\n",
              "      <td>school hosting event</td>\n",
              "      <td>1</td>\n",
              "      <td>0.824628</td>\n",
              "    </tr>\n",
              "    <tr>\n",
              "      <th>23</th>\n",
              "      <td>high fashion ladies wait outside tram beside c...</td>\n",
              "      <td>women care clothes wear</td>\n",
              "      <td>0</td>\n",
              "      <td>0.238023</td>\n",
              "    </tr>\n",
              "    <tr>\n",
              "      <th>24</th>\n",
              "      <td>high fashion ladies wait outside tram beside c...</td>\n",
              "      <td>women waiting tram</td>\n",
              "      <td>1</td>\n",
              "      <td>0.526826</td>\n",
              "    </tr>\n",
              "    <tr>\n",
              "      <th>25</th>\n",
              "      <td>man woman child enjoying beach</td>\n",
              "      <td>family three beach</td>\n",
              "      <td>1</td>\n",
              "      <td>0.588048</td>\n",
              "    </tr>\n",
              "    <tr>\n",
              "      <th>26</th>\n",
              "      <td>man woman child enjoying beach</td>\n",
              "      <td>family three mall shopping</td>\n",
              "      <td>0</td>\n",
              "      <td>0.286008</td>\n",
              "    </tr>\n",
              "    <tr>\n",
              "      <th>27</th>\n",
              "      <td>people waiting get train getting</td>\n",
              "      <td>people getting train</td>\n",
              "      <td>1</td>\n",
              "      <td>0.848716</td>\n",
              "    </tr>\n",
              "    <tr>\n",
              "      <th>28</th>\n",
              "      <td>people waiting get train getting</td>\n",
              "      <td>people waiting train</td>\n",
              "      <td>1</td>\n",
              "      <td>0.765289</td>\n",
              "    </tr>\n",
              "    <tr>\n",
              "      <th>29</th>\n",
              "      <td>couple playing little boy beach</td>\n",
              "      <td>couple playing young child outside</td>\n",
              "      <td>1</td>\n",
              "      <td>0.793968</td>\n",
              "    </tr>\n",
              "    <tr>\n",
              "      <th>30</th>\n",
              "      <td>couple playing little boy beach</td>\n",
              "      <td>couple watch little girl play beach</td>\n",
              "      <td>0</td>\n",
              "      <td>0.902656</td>\n",
              "    </tr>\n",
              "    <tr>\n",
              "      <th>31</th>\n",
              "      <td>couple play tide young son</td>\n",
              "      <td>family sitting dinner</td>\n",
              "      <td>0</td>\n",
              "      <td>0.327382</td>\n",
              "    </tr>\n",
              "    <tr>\n",
              "      <th>32</th>\n",
              "      <td>couple play tide young son</td>\n",
              "      <td>family outside</td>\n",
              "      <td>1</td>\n",
              "      <td>0.423117</td>\n",
              "    </tr>\n",
              "    <tr>\n",
              "      <th>33</th>\n",
              "      <td>man woman cross street front pizza gyro restau...</td>\n",
              "      <td>people standing still curb</td>\n",
              "      <td>0</td>\n",
              "      <td>0.377765</td>\n",
              "    </tr>\n",
              "    <tr>\n",
              "      <th>34</th>\n",
              "      <td>man woman cross street front pizza gyro restau...</td>\n",
              "      <td>near couple restaurants two people walk across...</td>\n",
              "      <td>1</td>\n",
              "      <td>0.514297</td>\n",
              "    </tr>\n",
              "  </tbody>\n",
              "</table>\n",
              "</div>\n",
              "      <button class=\"colab-df-convert\" onclick=\"convertToInteractive('df-0468976d-c554-4591-994a-c07b1e8e0908')\"\n",
              "              title=\"Convert this dataframe to an interactive table.\"\n",
              "              style=\"display:none;\">\n",
              "        \n",
              "  <svg xmlns=\"http://www.w3.org/2000/svg\" height=\"24px\"viewBox=\"0 0 24 24\"\n",
              "       width=\"24px\">\n",
              "    <path d=\"M0 0h24v24H0V0z\" fill=\"none\"/>\n",
              "    <path d=\"M18.56 5.44l.94 2.06.94-2.06 2.06-.94-2.06-.94-.94-2.06-.94 2.06-2.06.94zm-11 1L8.5 8.5l.94-2.06 2.06-.94-2.06-.94L8.5 2.5l-.94 2.06-2.06.94zm10 10l.94 2.06.94-2.06 2.06-.94-2.06-.94-.94-2.06-.94 2.06-2.06.94z\"/><path d=\"M17.41 7.96l-1.37-1.37c-.4-.4-.92-.59-1.43-.59-.52 0-1.04.2-1.43.59L10.3 9.45l-7.72 7.72c-.78.78-.78 2.05 0 2.83L4 21.41c.39.39.9.59 1.41.59.51 0 1.02-.2 1.41-.59l7.78-7.78 2.81-2.81c.8-.78.8-2.07 0-2.86zM5.41 20L4 18.59l7.72-7.72 1.47 1.35L5.41 20z\"/>\n",
              "  </svg>\n",
              "      </button>\n",
              "      \n",
              "  <style>\n",
              "    .colab-df-container {\n",
              "      display:flex;\n",
              "      flex-wrap:wrap;\n",
              "      gap: 12px;\n",
              "    }\n",
              "\n",
              "    .colab-df-convert {\n",
              "      background-color: #E8F0FE;\n",
              "      border: none;\n",
              "      border-radius: 50%;\n",
              "      cursor: pointer;\n",
              "      display: none;\n",
              "      fill: #1967D2;\n",
              "      height: 32px;\n",
              "      padding: 0 0 0 0;\n",
              "      width: 32px;\n",
              "    }\n",
              "\n",
              "    .colab-df-convert:hover {\n",
              "      background-color: #E2EBFA;\n",
              "      box-shadow: 0px 1px 2px rgba(60, 64, 67, 0.3), 0px 1px 3px 1px rgba(60, 64, 67, 0.15);\n",
              "      fill: #174EA6;\n",
              "    }\n",
              "\n",
              "    [theme=dark] .colab-df-convert {\n",
              "      background-color: #3B4455;\n",
              "      fill: #D2E3FC;\n",
              "    }\n",
              "\n",
              "    [theme=dark] .colab-df-convert:hover {\n",
              "      background-color: #434B5C;\n",
              "      box-shadow: 0px 1px 3px 1px rgba(0, 0, 0, 0.15);\n",
              "      filter: drop-shadow(0px 1px 2px rgba(0, 0, 0, 0.3));\n",
              "      fill: #FFFFFF;\n",
              "    }\n",
              "  </style>\n",
              "\n",
              "      <script>\n",
              "        const buttonEl =\n",
              "          document.querySelector('#df-0468976d-c554-4591-994a-c07b1e8e0908 button.colab-df-convert');\n",
              "        buttonEl.style.display =\n",
              "          google.colab.kernel.accessAllowed ? 'block' : 'none';\n",
              "\n",
              "        async function convertToInteractive(key) {\n",
              "          const element = document.querySelector('#df-0468976d-c554-4591-994a-c07b1e8e0908');\n",
              "          const dataTable =\n",
              "            await google.colab.kernel.invokeFunction('convertToInteractive',\n",
              "                                                     [key], {});\n",
              "          if (!dataTable) return;\n",
              "\n",
              "          const docLinkHtml = 'Like what you see? Visit the ' +\n",
              "            '<a target=\"_blank\" href=https://colab.research.google.com/notebooks/data_table.ipynb>data table notebook</a>'\n",
              "            + ' to learn more about interactive tables.';\n",
              "          element.innerHTML = '';\n",
              "          dataTable['output_type'] = 'display_data';\n",
              "          await google.colab.output.renderOutput(dataTable, element);\n",
              "          const docLink = document.createElement('div');\n",
              "          docLink.innerHTML = docLinkHtml;\n",
              "          element.appendChild(docLink);\n",
              "        }\n",
              "      </script>\n",
              "    </div>\n",
              "  </div>\n",
              "  "
            ]
          },
          "metadata": {},
          "execution_count": 17
        }
      ]
    },
    {
      "cell_type": "code",
      "execution_count": null,
      "metadata": {
        "id": "TPPAqi1gKaxD"
      },
      "outputs": [],
      "source": [
        "# Identify non-numeric values in similarity column\n",
        "mask = pd.to_numeric(df['similarity'], errors='coerce').isna()"
      ]
    },
    {
      "cell_type": "code",
      "execution_count": null,
      "metadata": {
        "colab": {
          "base_uri": "https://localhost:8080/"
        },
        "id": "oJJ8nkunKc6P",
        "outputId": "b1aa523e-5a0e-4dda-e507-2cbcbdb268ac"
      },
      "outputs": [
        {
          "output_type": "stream",
          "name": "stdout",
          "text": [
            "                                                   file_1 file_2  label  \\\n",
            "34813                                          man speech             0   \n",
            "61108   two people stage one holding microphone anothe...             0   \n",
            "93709                               ritual fire happening             1   \n",
            "131055  young girl wearing blue shirt marching band pl...             0   \n",
            "144983                      person runs waters edge ocean             0   \n",
            "164459            young woman sits alone mountainous area             1   \n",
            "279212  white kitchen corner displaying microwave garb...             1   \n",
            "304738             two men white practicing fencing court             0   \n",
            "322755                 mature couple dancing middle stage             0   \n",
            "354149  three men standing golf course one middle taki...             0   \n",
            "354150  three men standing golf course one middle taki...             1   \n",
            "\n",
            "                                               similarity  \n",
            "34813   [nan, nan, nan, nan, nan, nan, nan, nan, nan, ...  \n",
            "61108   [nan, nan, nan, nan, nan, nan, nan, nan, nan, ...  \n",
            "93709   [nan, nan, nan, nan, nan, nan, nan, nan, nan, ...  \n",
            "131055  [nan, nan, nan, nan, nan, nan, nan, nan, nan, ...  \n",
            "144983  [nan, nan, nan, nan, nan, nan, nan, nan, nan, ...  \n",
            "164459  [nan, nan, nan, nan, nan, nan, nan, nan, nan, ...  \n",
            "279212  [nan, nan, nan, nan, nan, nan, nan, nan, nan, ...  \n",
            "304738  [nan, nan, nan, nan, nan, nan, nan, nan, nan, ...  \n",
            "322755  [nan, nan, nan, nan, nan, nan, nan, nan, nan, ...  \n",
            "354149  [nan, nan, nan, nan, nan, nan, nan, nan, nan, ...  \n",
            "354150  [nan, nan, nan, nan, nan, nan, nan, nan, nan, ...  \n"
          ]
        }
      ],
      "source": [
        "# Print the rows containing non-numeric values\n",
        "print(df[mask])"
      ]
    },
    {
      "cell_type": "code",
      "execution_count": null,
      "metadata": {
        "id": "9cwGY_w1Kef0"
      },
      "outputs": [],
      "source": [
        "df = df[~mask]"
      ]
    },
    {
      "cell_type": "code",
      "execution_count": null,
      "metadata": {
        "colab": {
          "base_uri": "https://localhost:8080/"
        },
        "id": "txlI70EyKgJn",
        "outputId": "25182bc8-2fcb-46fb-afb0-c372e32fa0c3"
      },
      "outputs": [
        {
          "output_type": "stream",
          "name": "stdout",
          "text": [
            "Empty DataFrame\n",
            "Columns: [file_1, file_2, label, similarity]\n",
            "Index: []\n"
          ]
        },
        {
          "output_type": "stream",
          "name": "stderr",
          "text": [
            "<ipython-input-21-1cc287e73fe6>:2: UserWarning: Boolean Series key will be reindexed to match DataFrame index.\n",
            "  print(df[mask])\n"
          ]
        }
      ],
      "source": [
        "# Print the rows containing non-numeric values\n",
        "print(df[mask])"
      ]
    },
    {
      "cell_type": "code",
      "execution_count": null,
      "metadata": {
        "id": "cm9agZ1vKh-e"
      },
      "outputs": [],
      "source": [
        "df['similarity'] = df['similarity'].astype(float)"
      ]
    },
    {
      "cell_type": "code",
      "execution_count": null,
      "metadata": {
        "id": "aRipYvJ-Kjtd"
      },
      "outputs": [],
      "source": [
        "X = df[['similarity']].values\n",
        "y = df['label'].values"
      ]
    },
    {
      "cell_type": "code",
      "execution_count": null,
      "metadata": {
        "id": "ksZvdAIoK-8i"
      },
      "outputs": [],
      "source": [
        "from sklearn.model_selection import train_test_split\n",
        "\n",
        "# Split the data into a training set and a testing set\n",
        "X_train, X_test, y_train, y_test = train_test_split(X, y, test_size=0.2, random_state=42)"
      ]
    },
    {
      "cell_type": "code",
      "execution_count": null,
      "metadata": {
        "colab": {
          "base_uri": "https://localhost:8080/"
        },
        "id": "aXrbU8X9Miyp",
        "outputId": "98640d43-1099-4925-bfed-c780321b0324"
      },
      "outputs": [
        {
          "output_type": "execute_result",
          "data": {
            "text/plain": [
              "array([[0.49735728],\n",
              "       [0.64153218],\n",
              "       [0.70386314],\n",
              "       ...,\n",
              "       [0.84477854],\n",
              "       [0.76235038],\n",
              "       [0.61465001]])"
            ]
          },
          "metadata": {},
          "execution_count": 25
        }
      ],
      "source": [
        "X_train"
      ]
    },
    {
      "cell_type": "code",
      "execution_count": null,
      "metadata": {
        "id": "7-QFgBwuMPNZ"
      },
      "outputs": [],
      "source": [
        "from sklearn.linear_model import LogisticRegression"
      ]
    },
    {
      "cell_type": "code",
      "execution_count": null,
      "metadata": {
        "id": "Xqvl7eCJMPqN"
      },
      "outputs": [],
      "source": [
        "clf = LogisticRegression()"
      ]
    },
    {
      "cell_type": "code",
      "execution_count": null,
      "metadata": {
        "colab": {
          "base_uri": "https://localhost:8080/",
          "height": 75
        },
        "id": "eHtwi_AXMSXF",
        "outputId": "363fb8f8-0dec-42c1-cfe4-c6e49efb2f29"
      },
      "outputs": [
        {
          "output_type": "execute_result",
          "data": {
            "text/plain": [
              "LogisticRegression()"
            ],
            "text/html": [
              "<style>#sk-container-id-1 {color: black;background-color: white;}#sk-container-id-1 pre{padding: 0;}#sk-container-id-1 div.sk-toggleable {background-color: white;}#sk-container-id-1 label.sk-toggleable__label {cursor: pointer;display: block;width: 100%;margin-bottom: 0;padding: 0.3em;box-sizing: border-box;text-align: center;}#sk-container-id-1 label.sk-toggleable__label-arrow:before {content: \"▸\";float: left;margin-right: 0.25em;color: #696969;}#sk-container-id-1 label.sk-toggleable__label-arrow:hover:before {color: black;}#sk-container-id-1 div.sk-estimator:hover label.sk-toggleable__label-arrow:before {color: black;}#sk-container-id-1 div.sk-toggleable__content {max-height: 0;max-width: 0;overflow: hidden;text-align: left;background-color: #f0f8ff;}#sk-container-id-1 div.sk-toggleable__content pre {margin: 0.2em;color: black;border-radius: 0.25em;background-color: #f0f8ff;}#sk-container-id-1 input.sk-toggleable__control:checked~div.sk-toggleable__content {max-height: 200px;max-width: 100%;overflow: auto;}#sk-container-id-1 input.sk-toggleable__control:checked~label.sk-toggleable__label-arrow:before {content: \"▾\";}#sk-container-id-1 div.sk-estimator input.sk-toggleable__control:checked~label.sk-toggleable__label {background-color: #d4ebff;}#sk-container-id-1 div.sk-label input.sk-toggleable__control:checked~label.sk-toggleable__label {background-color: #d4ebff;}#sk-container-id-1 input.sk-hidden--visually {border: 0;clip: rect(1px 1px 1px 1px);clip: rect(1px, 1px, 1px, 1px);height: 1px;margin: -1px;overflow: hidden;padding: 0;position: absolute;width: 1px;}#sk-container-id-1 div.sk-estimator {font-family: monospace;background-color: #f0f8ff;border: 1px dotted black;border-radius: 0.25em;box-sizing: border-box;margin-bottom: 0.5em;}#sk-container-id-1 div.sk-estimator:hover {background-color: #d4ebff;}#sk-container-id-1 div.sk-parallel-item::after {content: \"\";width: 100%;border-bottom: 1px solid gray;flex-grow: 1;}#sk-container-id-1 div.sk-label:hover label.sk-toggleable__label {background-color: #d4ebff;}#sk-container-id-1 div.sk-serial::before {content: \"\";position: absolute;border-left: 1px solid gray;box-sizing: border-box;top: 0;bottom: 0;left: 50%;z-index: 0;}#sk-container-id-1 div.sk-serial {display: flex;flex-direction: column;align-items: center;background-color: white;padding-right: 0.2em;padding-left: 0.2em;position: relative;}#sk-container-id-1 div.sk-item {position: relative;z-index: 1;}#sk-container-id-1 div.sk-parallel {display: flex;align-items: stretch;justify-content: center;background-color: white;position: relative;}#sk-container-id-1 div.sk-item::before, #sk-container-id-1 div.sk-parallel-item::before {content: \"\";position: absolute;border-left: 1px solid gray;box-sizing: border-box;top: 0;bottom: 0;left: 50%;z-index: -1;}#sk-container-id-1 div.sk-parallel-item {display: flex;flex-direction: column;z-index: 1;position: relative;background-color: white;}#sk-container-id-1 div.sk-parallel-item:first-child::after {align-self: flex-end;width: 50%;}#sk-container-id-1 div.sk-parallel-item:last-child::after {align-self: flex-start;width: 50%;}#sk-container-id-1 div.sk-parallel-item:only-child::after {width: 0;}#sk-container-id-1 div.sk-dashed-wrapped {border: 1px dashed gray;margin: 0 0.4em 0.5em 0.4em;box-sizing: border-box;padding-bottom: 0.4em;background-color: white;}#sk-container-id-1 div.sk-label label {font-family: monospace;font-weight: bold;display: inline-block;line-height: 1.2em;}#sk-container-id-1 div.sk-label-container {text-align: center;}#sk-container-id-1 div.sk-container {/* jupyter's `normalize.less` sets `[hidden] { display: none; }` but bootstrap.min.css set `[hidden] { display: none !important; }` so we also need the `!important` here to be able to override the default hidden behavior on the sphinx rendered scikit-learn.org. See: https://github.com/scikit-learn/scikit-learn/issues/21755 */display: inline-block !important;position: relative;}#sk-container-id-1 div.sk-text-repr-fallback {display: none;}</style><div id=\"sk-container-id-1\" class=\"sk-top-container\"><div class=\"sk-text-repr-fallback\"><pre>LogisticRegression()</pre><b>In a Jupyter environment, please rerun this cell to show the HTML representation or trust the notebook. <br />On GitHub, the HTML representation is unable to render, please try loading this page with nbviewer.org.</b></div><div class=\"sk-container\" hidden><div class=\"sk-item\"><div class=\"sk-estimator sk-toggleable\"><input class=\"sk-toggleable__control sk-hidden--visually\" id=\"sk-estimator-id-1\" type=\"checkbox\" checked><label for=\"sk-estimator-id-1\" class=\"sk-toggleable__label sk-toggleable__label-arrow\">LogisticRegression</label><div class=\"sk-toggleable__content\"><pre>LogisticRegression()</pre></div></div></div></div></div>"
            ]
          },
          "metadata": {},
          "execution_count": 28
        }
      ],
      "source": [
        "clf.fit(X_train, y_train)"
      ]
    },
    {
      "cell_type": "code",
      "execution_count": null,
      "metadata": {
        "id": "smzwL_kAMXm5"
      },
      "outputs": [],
      "source": [
        "# Predict labels for the test data\n",
        "y_pred_1 = clf.predict(X_test)"
      ]
    },
    {
      "cell_type": "code",
      "source": [],
      "metadata": {
        "id": "paAWZHV30ROB"
      },
      "execution_count": null,
      "outputs": []
    },
    {
      "cell_type": "code",
      "source": [
        "threshold = 0.4122"
      ],
      "metadata": {
        "id": "xeZVlyUJye7p"
      },
      "execution_count": null,
      "outputs": []
    },
    {
      "cell_type": "code",
      "source": [
        "y_pred=(y_pred_1 >= threshold).astype(int)"
      ],
      "metadata": {
        "id": "vdgZj5yEys-C"
      },
      "execution_count": null,
      "outputs": []
    },
    {
      "cell_type": "code",
      "source": [
        "from sklearn.metrics import accuracy_score, precision_score, recall_score, f1_score\n"
      ],
      "metadata": {
        "id": "_cM5pbiDzNBk"
      },
      "execution_count": null,
      "outputs": []
    },
    {
      "cell_type": "code",
      "source": [
        "accuracy = accuracy_score(y_test, y_pred)"
      ],
      "metadata": {
        "id": "CRxBPKiSzGoi"
      },
      "execution_count": null,
      "outputs": []
    },
    {
      "cell_type": "code",
      "source": [
        "print('Accuracy: {:.3f}'.format(accuracy))"
      ],
      "metadata": {
        "colab": {
          "base_uri": "https://localhost:8080/"
        },
        "id": "8uaenm-HzWdT",
        "outputId": "0c3475f2-6e4c-4d4d-b09d-98020c9ac833"
      },
      "execution_count": null,
      "outputs": [
        {
          "output_type": "stream",
          "name": "stdout",
          "text": [
            "Accuracy: 0.659\n"
          ]
        }
      ]
    },
    {
      "cell_type": "code",
      "source": [
        "precision = precision_score(y_test, y_pred)\n",
        "recall = recall_score(y_test, y_pred)\n",
        "f1 = f1_score(y_test, y_pred)\n"
      ],
      "metadata": {
        "id": "mcBVgUH213Ax"
      },
      "execution_count": null,
      "outputs": []
    },
    {
      "cell_type": "code",
      "source": [
        "print('Precision: {:.3f}'.format(precision))\n",
        "print('Recall: {:.3f}'.format(recall))\n",
        "print('F1-score: {:.3f}'.format(f1))"
      ],
      "metadata": {
        "colab": {
          "base_uri": "https://localhost:8080/"
        },
        "id": "r1GwczXt15wA",
        "outputId": "a83afc44-804d-4f99-df46-f37cbc4b6050"
      },
      "execution_count": null,
      "outputs": [
        {
          "output_type": "stream",
          "name": "stdout",
          "text": [
            "Precision: 0.651\n",
            "Recall: 0.696\n",
            "F1-score: 0.673\n"
          ]
        }
      ]
    },
    {
      "cell_type": "code",
      "source": [
        "from sklearn.metrics import confusion_matrix"
      ],
      "metadata": {
        "id": "Mhb6OiSs2Vs-"
      },
      "execution_count": null,
      "outputs": []
    },
    {
      "cell_type": "code",
      "source": [
        "# compute the confusion matrix\n",
        "cm = confusion_matrix(y_test, y_pred)\n",
        "\n",
        "# print the confusion matrix\n",
        "print('Confusion Matrix:')\n",
        "print(cm)"
      ],
      "metadata": {
        "colab": {
          "base_uri": "https://localhost:8080/"
        },
        "id": "jrLMNqEN2YrY",
        "outputId": "33b1bdb7-4621-478f-e8e9-f9e1417a1ccc"
      },
      "execution_count": null,
      "outputs": [
        {
          "output_type": "stream",
          "name": "stdout",
          "text": [
            "Confusion Matrix:\n",
            "[[22671 13795]\n",
            " [11258 25748]]\n"
          ]
        }
      ]
    },
    {
      "cell_type": "code",
      "execution_count": null,
      "metadata": {
        "id": "L1p1dA0UMuih"
      },
      "outputs": [],
      "source": [
        "from sklearn.ensemble import RandomForestClassifier\n",
        "from sklearn.metrics import accuracy_score"
      ]
    },
    {
      "cell_type": "code",
      "source": [
        "rf = RandomForestClassifier(n_estimators=100)"
      ],
      "metadata": {
        "id": "CyTl2JPX2gch"
      },
      "execution_count": null,
      "outputs": []
    },
    {
      "cell_type": "code",
      "source": [
        "rf.fit(X_train, y_train)"
      ],
      "metadata": {
        "colab": {
          "base_uri": "https://localhost:8080/",
          "height": 75
        },
        "id": "kJGFGXYC3FBo",
        "outputId": "ffc427db-ebc4-4888-ea39-ad665a400ac5"
      },
      "execution_count": null,
      "outputs": [
        {
          "output_type": "execute_result",
          "data": {
            "text/plain": [
              "RandomForestClassifier()"
            ],
            "text/html": [
              "<style>#sk-container-id-2 {color: black;background-color: white;}#sk-container-id-2 pre{padding: 0;}#sk-container-id-2 div.sk-toggleable {background-color: white;}#sk-container-id-2 label.sk-toggleable__label {cursor: pointer;display: block;width: 100%;margin-bottom: 0;padding: 0.3em;box-sizing: border-box;text-align: center;}#sk-container-id-2 label.sk-toggleable__label-arrow:before {content: \"▸\";float: left;margin-right: 0.25em;color: #696969;}#sk-container-id-2 label.sk-toggleable__label-arrow:hover:before {color: black;}#sk-container-id-2 div.sk-estimator:hover label.sk-toggleable__label-arrow:before {color: black;}#sk-container-id-2 div.sk-toggleable__content {max-height: 0;max-width: 0;overflow: hidden;text-align: left;background-color: #f0f8ff;}#sk-container-id-2 div.sk-toggleable__content pre {margin: 0.2em;color: black;border-radius: 0.25em;background-color: #f0f8ff;}#sk-container-id-2 input.sk-toggleable__control:checked~div.sk-toggleable__content {max-height: 200px;max-width: 100%;overflow: auto;}#sk-container-id-2 input.sk-toggleable__control:checked~label.sk-toggleable__label-arrow:before {content: \"▾\";}#sk-container-id-2 div.sk-estimator input.sk-toggleable__control:checked~label.sk-toggleable__label {background-color: #d4ebff;}#sk-container-id-2 div.sk-label input.sk-toggleable__control:checked~label.sk-toggleable__label {background-color: #d4ebff;}#sk-container-id-2 input.sk-hidden--visually {border: 0;clip: rect(1px 1px 1px 1px);clip: rect(1px, 1px, 1px, 1px);height: 1px;margin: -1px;overflow: hidden;padding: 0;position: absolute;width: 1px;}#sk-container-id-2 div.sk-estimator {font-family: monospace;background-color: #f0f8ff;border: 1px dotted black;border-radius: 0.25em;box-sizing: border-box;margin-bottom: 0.5em;}#sk-container-id-2 div.sk-estimator:hover {background-color: #d4ebff;}#sk-container-id-2 div.sk-parallel-item::after {content: \"\";width: 100%;border-bottom: 1px solid gray;flex-grow: 1;}#sk-container-id-2 div.sk-label:hover label.sk-toggleable__label {background-color: #d4ebff;}#sk-container-id-2 div.sk-serial::before {content: \"\";position: absolute;border-left: 1px solid gray;box-sizing: border-box;top: 0;bottom: 0;left: 50%;z-index: 0;}#sk-container-id-2 div.sk-serial {display: flex;flex-direction: column;align-items: center;background-color: white;padding-right: 0.2em;padding-left: 0.2em;position: relative;}#sk-container-id-2 div.sk-item {position: relative;z-index: 1;}#sk-container-id-2 div.sk-parallel {display: flex;align-items: stretch;justify-content: center;background-color: white;position: relative;}#sk-container-id-2 div.sk-item::before, #sk-container-id-2 div.sk-parallel-item::before {content: \"\";position: absolute;border-left: 1px solid gray;box-sizing: border-box;top: 0;bottom: 0;left: 50%;z-index: -1;}#sk-container-id-2 div.sk-parallel-item {display: flex;flex-direction: column;z-index: 1;position: relative;background-color: white;}#sk-container-id-2 div.sk-parallel-item:first-child::after {align-self: flex-end;width: 50%;}#sk-container-id-2 div.sk-parallel-item:last-child::after {align-self: flex-start;width: 50%;}#sk-container-id-2 div.sk-parallel-item:only-child::after {width: 0;}#sk-container-id-2 div.sk-dashed-wrapped {border: 1px dashed gray;margin: 0 0.4em 0.5em 0.4em;box-sizing: border-box;padding-bottom: 0.4em;background-color: white;}#sk-container-id-2 div.sk-label label {font-family: monospace;font-weight: bold;display: inline-block;line-height: 1.2em;}#sk-container-id-2 div.sk-label-container {text-align: center;}#sk-container-id-2 div.sk-container {/* jupyter's `normalize.less` sets `[hidden] { display: none; }` but bootstrap.min.css set `[hidden] { display: none !important; }` so we also need the `!important` here to be able to override the default hidden behavior on the sphinx rendered scikit-learn.org. See: https://github.com/scikit-learn/scikit-learn/issues/21755 */display: inline-block !important;position: relative;}#sk-container-id-2 div.sk-text-repr-fallback {display: none;}</style><div id=\"sk-container-id-2\" class=\"sk-top-container\"><div class=\"sk-text-repr-fallback\"><pre>RandomForestClassifier()</pre><b>In a Jupyter environment, please rerun this cell to show the HTML representation or trust the notebook. <br />On GitHub, the HTML representation is unable to render, please try loading this page with nbviewer.org.</b></div><div class=\"sk-container\" hidden><div class=\"sk-item\"><div class=\"sk-estimator sk-toggleable\"><input class=\"sk-toggleable__control sk-hidden--visually\" id=\"sk-estimator-id-2\" type=\"checkbox\" checked><label for=\"sk-estimator-id-2\" class=\"sk-toggleable__label sk-toggleable__label-arrow\">RandomForestClassifier</label><div class=\"sk-toggleable__content\"><pre>RandomForestClassifier()</pre></div></div></div></div></div>"
            ]
          },
          "metadata": {},
          "execution_count": 41
        }
      ]
    },
    {
      "cell_type": "code",
      "source": [
        "y_pred_rf = rf.predict(X_test)"
      ],
      "metadata": {
        "id": "VFlTWvG-3H8E"
      },
      "execution_count": null,
      "outputs": []
    },
    {
      "cell_type": "code",
      "source": [
        "# compute the accuracy of the classifier\n",
        "accuracy = accuracy_score(y_test, y_pred_rf)"
      ],
      "metadata": {
        "id": "ag0vij1X3NeQ"
      },
      "execution_count": null,
      "outputs": []
    },
    {
      "cell_type": "code",
      "source": [
        "print('Accuracy: {:.3f}'.format(accuracy))"
      ],
      "metadata": {
        "colab": {
          "base_uri": "https://localhost:8080/"
        },
        "id": "S1eGx8Jy36uZ",
        "outputId": "2b4a69fb-a904-4f60-9cd6-386af7b9dd5a"
      },
      "execution_count": null,
      "outputs": [
        {
          "output_type": "stream",
          "name": "stdout",
          "text": [
            "Accuracy: 0.569\n"
          ]
        }
      ]
    },
    {
      "cell_type": "code",
      "execution_count": null,
      "metadata": {
        "id": "lv4Es0xTOWTu"
      },
      "outputs": [],
      "source": [
        "from sklearn.neighbors import KNeighborsClassifier"
      ]
    },
    {
      "cell_type": "code",
      "source": [
        "# create a KNN classifier with k=5\n",
        "knn = KNeighborsClassifier(n_neighbors=5)"
      ],
      "metadata": {
        "id": "nmYsHka85WEP"
      },
      "execution_count": null,
      "outputs": []
    },
    {
      "cell_type": "code",
      "source": [
        "# fit the classifier on the training data\n",
        "knn.fit(X_train, y_train)"
      ],
      "metadata": {
        "colab": {
          "base_uri": "https://localhost:8080/",
          "height": 75
        },
        "id": "LKfqIfg20m17",
        "outputId": "f2d786d5-2761-4e32-c2e7-4c7e16aad145"
      },
      "execution_count": null,
      "outputs": [
        {
          "output_type": "execute_result",
          "data": {
            "text/plain": [
              "KNeighborsClassifier()"
            ],
            "text/html": [
              "<style>#sk-container-id-3 {color: black;background-color: white;}#sk-container-id-3 pre{padding: 0;}#sk-container-id-3 div.sk-toggleable {background-color: white;}#sk-container-id-3 label.sk-toggleable__label {cursor: pointer;display: block;width: 100%;margin-bottom: 0;padding: 0.3em;box-sizing: border-box;text-align: center;}#sk-container-id-3 label.sk-toggleable__label-arrow:before {content: \"▸\";float: left;margin-right: 0.25em;color: #696969;}#sk-container-id-3 label.sk-toggleable__label-arrow:hover:before {color: black;}#sk-container-id-3 div.sk-estimator:hover label.sk-toggleable__label-arrow:before {color: black;}#sk-container-id-3 div.sk-toggleable__content {max-height: 0;max-width: 0;overflow: hidden;text-align: left;background-color: #f0f8ff;}#sk-container-id-3 div.sk-toggleable__content pre {margin: 0.2em;color: black;border-radius: 0.25em;background-color: #f0f8ff;}#sk-container-id-3 input.sk-toggleable__control:checked~div.sk-toggleable__content {max-height: 200px;max-width: 100%;overflow: auto;}#sk-container-id-3 input.sk-toggleable__control:checked~label.sk-toggleable__label-arrow:before {content: \"▾\";}#sk-container-id-3 div.sk-estimator input.sk-toggleable__control:checked~label.sk-toggleable__label {background-color: #d4ebff;}#sk-container-id-3 div.sk-label input.sk-toggleable__control:checked~label.sk-toggleable__label {background-color: #d4ebff;}#sk-container-id-3 input.sk-hidden--visually {border: 0;clip: rect(1px 1px 1px 1px);clip: rect(1px, 1px, 1px, 1px);height: 1px;margin: -1px;overflow: hidden;padding: 0;position: absolute;width: 1px;}#sk-container-id-3 div.sk-estimator {font-family: monospace;background-color: #f0f8ff;border: 1px dotted black;border-radius: 0.25em;box-sizing: border-box;margin-bottom: 0.5em;}#sk-container-id-3 div.sk-estimator:hover {background-color: #d4ebff;}#sk-container-id-3 div.sk-parallel-item::after {content: \"\";width: 100%;border-bottom: 1px solid gray;flex-grow: 1;}#sk-container-id-3 div.sk-label:hover label.sk-toggleable__label {background-color: #d4ebff;}#sk-container-id-3 div.sk-serial::before {content: \"\";position: absolute;border-left: 1px solid gray;box-sizing: border-box;top: 0;bottom: 0;left: 50%;z-index: 0;}#sk-container-id-3 div.sk-serial {display: flex;flex-direction: column;align-items: center;background-color: white;padding-right: 0.2em;padding-left: 0.2em;position: relative;}#sk-container-id-3 div.sk-item {position: relative;z-index: 1;}#sk-container-id-3 div.sk-parallel {display: flex;align-items: stretch;justify-content: center;background-color: white;position: relative;}#sk-container-id-3 div.sk-item::before, #sk-container-id-3 div.sk-parallel-item::before {content: \"\";position: absolute;border-left: 1px solid gray;box-sizing: border-box;top: 0;bottom: 0;left: 50%;z-index: -1;}#sk-container-id-3 div.sk-parallel-item {display: flex;flex-direction: column;z-index: 1;position: relative;background-color: white;}#sk-container-id-3 div.sk-parallel-item:first-child::after {align-self: flex-end;width: 50%;}#sk-container-id-3 div.sk-parallel-item:last-child::after {align-self: flex-start;width: 50%;}#sk-container-id-3 div.sk-parallel-item:only-child::after {width: 0;}#sk-container-id-3 div.sk-dashed-wrapped {border: 1px dashed gray;margin: 0 0.4em 0.5em 0.4em;box-sizing: border-box;padding-bottom: 0.4em;background-color: white;}#sk-container-id-3 div.sk-label label {font-family: monospace;font-weight: bold;display: inline-block;line-height: 1.2em;}#sk-container-id-3 div.sk-label-container {text-align: center;}#sk-container-id-3 div.sk-container {/* jupyter's `normalize.less` sets `[hidden] { display: none; }` but bootstrap.min.css set `[hidden] { display: none !important; }` so we also need the `!important` here to be able to override the default hidden behavior on the sphinx rendered scikit-learn.org. See: https://github.com/scikit-learn/scikit-learn/issues/21755 */display: inline-block !important;position: relative;}#sk-container-id-3 div.sk-text-repr-fallback {display: none;}</style><div id=\"sk-container-id-3\" class=\"sk-top-container\"><div class=\"sk-text-repr-fallback\"><pre>KNeighborsClassifier()</pre><b>In a Jupyter environment, please rerun this cell to show the HTML representation or trust the notebook. <br />On GitHub, the HTML representation is unable to render, please try loading this page with nbviewer.org.</b></div><div class=\"sk-container\" hidden><div class=\"sk-item\"><div class=\"sk-estimator sk-toggleable\"><input class=\"sk-toggleable__control sk-hidden--visually\" id=\"sk-estimator-id-3\" type=\"checkbox\" checked><label for=\"sk-estimator-id-3\" class=\"sk-toggleable__label sk-toggleable__label-arrow\">KNeighborsClassifier</label><div class=\"sk-toggleable__content\"><pre>KNeighborsClassifier()</pre></div></div></div></div></div>"
            ]
          },
          "metadata": {},
          "execution_count": 48
        }
      ]
    },
    {
      "cell_type": "code",
      "source": [
        "# predict the classes of the testing set\n",
        "y_pred = knn.predict(X_test)"
      ],
      "metadata": {
        "id": "_xdBB4jD0qCj"
      },
      "execution_count": null,
      "outputs": []
    },
    {
      "cell_type": "code",
      "source": [
        "accuracy = accuracy_score(y_test, y_pred)\n",
        "\n",
        "print('Accuracy: {:.3f}'.format(accuracy))"
      ],
      "metadata": {
        "colab": {
          "base_uri": "https://localhost:8080/"
        },
        "id": "fBFs7n940s6t",
        "outputId": "48195b52-3f12-4281-c8df-7a7ff2211cd9"
      },
      "execution_count": null,
      "outputs": [
        {
          "output_type": "stream",
          "name": "stdout",
          "text": [
            "Accuracy: 0.607\n"
          ]
        }
      ]
    },
    {
      "cell_type": "code",
      "source": [
        "from sklearn.svm import SVC"
      ],
      "metadata": {
        "id": "o7XXjs6pcfe6"
      },
      "execution_count": null,
      "outputs": []
    },
    {
      "cell_type": "code",
      "source": [
        "# Train an SVM classifier\n",
        "clf = SVC(kernel='linear', C=1, probability=True)\n",
        "clf.fit(X_train, y_train)"
      ],
      "metadata": {
        "id": "VFFAKcvY1lLX"
      },
      "execution_count": null,
      "outputs": []
    },
    {
      "cell_type": "code",
      "source": [
        "clf_pred=clf.predict(X_test)"
      ],
      "metadata": {
        "id": "zyr_VCFMd6I6"
      },
      "execution_count": null,
      "outputs": []
    },
    {
      "cell_type": "code",
      "source": [
        "print (acccuracy_score((y_test,clf_pred))"
      ],
      "metadata": {
        "id": "850iO3PWz5TB"
      },
      "execution_count": null,
      "outputs": []
    },
    {
      "cell_type": "code",
      "source": [],
      "metadata": {
        "id": "uLVmSGaf0X6W"
      },
      "execution_count": null,
      "outputs": []
    }
  ],
  "metadata": {
    "colab": {
      "provenance": [],
      "authorship_tag": "ABX9TyOsFeQvO8EeQDNDvwUoD2JS",
      "include_colab_link": true
    },
    "kernelspec": {
      "display_name": "Python 3",
      "name": "python3"
    },
    "language_info": {
      "name": "python"
    }
  },
  "nbformat": 4,
  "nbformat_minor": 0
}